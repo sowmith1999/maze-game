{
 "cells": [
  {
   "cell_type": "code",
   "execution_count": 1,
   "metadata": {},
   "outputs": [],
   "source": [
    "import docker"
   ]
  },
  {
   "cell_type": "code",
   "execution_count": 2,
   "metadata": {},
   "outputs": [],
   "source": [
    "def run_container(image_name, name, command, volume_mapping):\n",
    "    # Create a docker client\n",
    "    client = docker.from_env()\n",
    "\n",
    "    # container config\n",
    "    container_config = {\n",
    "        'image': image_name,\n",
    "        'name' : name,\n",
    "        'command' : command,\n",
    "        'volumes' : volume_mapping,\n",
    "        'detach' : True # runs the container in the back ground\n",
    "    }\n",
    "\n",
    "    # Run the container\n",
    "    container = client.containers.run(**container_config)\n",
    "\n",
    "    return container"
   ]
  },
  {
   "cell_type": "code",
   "execution_count": 26,
   "metadata": {},
   "outputs": [],
   "source": [
    "image_name = \"tournament:latest\"\n",
    "\n",
    "name = \"4_vs_10\"\n",
    "\n",
    "# command = [\"tail\", \"-f\", \"/dev/null\"]\n",
    "command = ['/root/maze-game/server', '/root/maze-game/mazepool/0.maze', '/root/videos/4_vs_10', \"python3 /root/maze-game/groups/4/4.py\", \"python3 /root/maze-game/groups/10/10.py\"]\n",
    "\n",
    "volume_mapping = {'/home/sowmithk/Documents/projects/p-maze-game/maze-game/videos/':{'bind':'/root/videos', 'mode':'rw'}}\n",
    "\n",
    "container = run_container(image_name, name, command, volume_mapping)"
   ]
  },
  {
   "cell_type": "code",
   "execution_count": 46,
   "metadata": {},
   "outputs": [],
   "source": []
  },
  {
   "cell_type": "code",
   "execution_count": null,
   "metadata": {},
   "outputs": [],
   "source": [
    "container.attrs['State']['StartedAt']"
   ]
  },
  {
   "cell_type": "code",
   "execution_count": null,
   "metadata": {},
   "outputs": [],
   "source": [
    "container.attrs"
   ]
  },
  {
   "cell_type": "code",
   "execution_count": null,
   "metadata": {},
   "outputs": [],
   "source": [
    "container.name"
   ]
  },
  {
   "cell_type": "code",
   "execution_count": 28,
   "metadata": {},
   "outputs": [
    {
     "data": {
      "text/plain": [
       "ExecResult(exit_code=0, output=b'59\\n61\\n')"
      ]
     },
     "execution_count": 28,
     "metadata": {},
     "output_type": "execute_result"
    }
   ],
   "source": [
    "# container.exec_run(\"ls /root/videos\")\n",
    "# container.exec_run(\"ls /root/maze-game/out\")\n",
    "# container.exec_run(\"ls /root/maze-game/\")\n",
    "container.exec_run(\"cat /root/maze-game/pidfile.txt\")"
   ]
  },
  {
   "cell_type": "code",
   "execution_count": 42,
   "metadata": {},
   "outputs": [
    {
     "data": {
      "text/plain": [
       "b\"rm: cannot remove 'out/': No such file or directory\\nrm: cannot remove 'out.mp4': No such file or directory\\nrm: cannot remove 'out.mp4.tar.gz': No such file or directory\\nGraphicsMagick Initialized\\nThe frame limit is72\\nGame Initialization\\nMaze Loaded\\nMaze Rendered\\nagent1cmdpython3 groups/11/11.py\\nPlayer 1 Initialized\\nagent2cmdpython3 groups/10/10.py\\nPlayer 2 Initialized\\nBeginning a 2-player game.\\ngreen himynameis Akshar\\ngreen toward 0.5 1.5\\nred himynameis dfs-bot\\nSimulation is now 5% complete\\nRendering is now 5% complete\\nSimulation is now 10% complete\\nRendering is now 10% complete\\nSimulation is now 15% complete\\nRendering is now 15% complete\\ngreen toward 1.5 1.5\\nSimulation is now 20% complete\\nRendering is now 20% complete\\nSimulation is now 25% complete\\nRendering is now 25% complete\\ngreen toward 2.5 1.5\\nSimulation is now 30% complete\\nRendering is now 30% complete\\nSimulation is now 35% complete\\nRendering is now 35% complete\\nSimulation is now 40% complete\\nRendering is now 40% complete\\ngreen toward 2.5 2.5\\nSimulation is now 45% complete\\nRendering is now 45% complete\\nSimulation is now 50% complete\\nRendering is now 50% complete\\nSimulation is now 55% complete\\nRendering is now 55% complete\\ngreen toward 1.5 2.5\\nSimulation is now 60% complete\\nRendering is now 60% complete\\nSimulation is now 65% complete\\nRendering is now 65% complete\\nSimulation is now 70% complete\\nRendering is now 70% complete\\ngreen toward 2.5 2.5\\nSimulation is now 75% complete\\nRendering is now 75% complete\\nSimulation is now 80% complete\\nRendering is now 80% complete\\nSimulation is now 85% complete\\nRendering is now 85% complete\\ngreen toward 1.5 2.5\\nSimulation is now 90% complete\\nRendering is now 90% complete\\nSimulation is now 95% complete\\nRendering is now 95% complete\\nSimulation is now 100% complete\\nRendering is now 100% complete\\nBeautiful exit\\nreached end of ~Game\\nffmpeg -framerate -y 18 -pattern_type glob -i 'out/frame*.png' -c:v libx264 -pix_fmt yuv420p /root/videos/11_vs_10.mp4\\nffmpeg version 4.4.2-0ubuntu0.22.04.1 Copyright (c) 2000-2021 the FFmpeg developers\\n  built with gcc 11 (Ubuntu 11.2.0-19ubuntu1)\\n  configuration: --prefix=/usr --extra-version=0ubuntu0.22.04.1 --toolchain=hardened --libdir=/usr/lib/x86_64-linux-gnu --incdir=/usr/include/x86_64-linux-gnu --arch=amd64 --enable-gpl --disable-stripping --enable-gnutls --enable-ladspa --enable-libaom --enable-libass --enable-libbluray --enable-libbs2b --enable-libcaca --enable-libcdio --enable-libcodec2 --enable-libdav1d --enable-libflite --enable-libfontconfig --enable-libfreetype --enable-libfribidi --enable-libgme --enable-libgsm --enable-libjack --enable-libmp3lame --enable-libmysofa --enable-libopenjpeg --enable-libopenmpt --enable-libopus --enable-libpulse --enable-librabbitmq --enable-librubberband --enable-libshine --enable-libsnappy --enable-libsoxr --enable-libspeex --enable-libsrt --enable-libssh --enable-libtheora --enable-libtwolame --enable-libvidstab --enable-libvorbis --enable-libvpx --enable-libwebp --enable-libx265 --enable-libxml2 --enable-libxvid --enable-libzimg --enable-libzmq --enable-libzvbi --enable-lv2 --enable-omx --enable-openal --enable-opencl --enable-opengl --enable-sdl2 --enable-pocketsphinx --enable-librsvg --enable-libmfx --enable-libdc1394 --enable-libdrm --enable-libiec61883 --enable-chromaprint --enable-frei0r --enable-libx264 --enable-shared\\n  libavutil      56. 70.100 / 56. 70.100\\n  libavcodec     58.134.100 / 58.134.100\\n  libavformat    58. 76.100 / 58. 76.100\\n  libavdevice    58. 13.100 / 58. 13.100\\n  libavfilter     7.110.100 /  7.110.100\\n  libswscale      5.  9.100 /  5.  9.100\\n  libswresample   3.  9.100 /  3.  9.100\\n  libpostproc    55.  9.100 / 55.  9.100\\nInput #0, image2, from 'out/frame*.png':\\n  Duration: 00:00:04.89, start: 0.000000, bitrate: N/A\\n  Stream #0:0: Video: png, rgb48be(pc), 1920x1080, 18 fps, 18 tbr, 18 tbn, 18 tbc\\nStream mapping:\\n  Stream #0:0 -> #0:0 (png (native) -> h264 (libx264))\\nPress [q] to stop, [?] for help\\n[libx264 @ 0x55cd8e2ee340] using cpu capabilities: MMX2 SSE2Fast SSSE3 SSE4.2 AVX FMA3 BMI2 AVX2\\n[libx264 @ 0x55cd8e2ee340] profile High, level 4.0, 4:2:0, 8-bit\\n[libx264 @ 0x55cd8e2ee340] 264 - core 163 r3060 5db6aa6 - H.264/MPEG-4 AVC codec - Copyleft 2003-2021 - http://www.videolan.org/x264.html - options: cabac=1 ref=3 deblock=1:0:0 analyse=0x3:0x113 me=hex subme=7 psy=1 psy_rd=1.00:0.00 mixed_ref=1 me_range=16 chroma_me=1 trellis=1 8x8dct=1 cqm=0 deadzone=21,11 fast_pskip=1 chroma_qp_offset=-2 threads=24 lookahead_threads=4 sliced_threads=0 nr=0 decimate=1 interlaced=0 bluray_compat=0 constrained_intra=0 bframes=3 b_pyramid=2 b_adapt=1 b_bias=0 direct=1 weightb=1 open_gop=0 weightp=2 keyint=250 keyint_min=18 scenecut=40 intra_refresh=0 rc_lookahead=40 rc=crf mbtree=1 crf=23.0 qcomp=0.60 qpmin=0 qpmax=69 qpstep=4 ip_ratio=1.40 aq=1:1.00\\nOutput #0, mp4, to '/root/videos/11_vs_10.mp4':\\n  Metadata:\\n    encoder         : Lavf58.76.100\\n  Stream #0:0: Video: h264 (avc1 / 0x31637661), yuv420p(tv, progressive), 1920x1080, q=2-31, 18 fps, 18432 tbn\\n    Metadata:\\n      encoder         : Lavc58.134.100 libx264\\n    Side data:\\n      cpb: bitrate max/min/avg: 0/0/0 buffer size: 0 vbv_delay: N/A\\nframe=    1 fps=0.0 q=0.0 size=       0kB time=00:00:00.00 bitrate=N/A speed=   0x    \\r\""
      ]
     },
     "execution_count": 42,
     "metadata": {},
     "output_type": "execute_result"
    }
   ],
   "source": [
    "container.logs()"
   ]
  },
  {
   "cell_type": "code",
   "execution_count": 55,
   "metadata": {},
   "outputs": [],
   "source": [
    "client = docker.from_env()"
   ]
  },
  {
   "cell_type": "code",
   "execution_count": 56,
   "metadata": {},
   "outputs": [],
   "source": [
    "container = client.containers.get(\"1a70b96f0b01\")"
   ]
  },
  {
   "cell_type": "code",
   "execution_count": 57,
   "metadata": {},
   "outputs": [],
   "source": [
    "container.reload()"
   ]
  },
  {
   "cell_type": "code",
   "execution_count": 60,
   "metadata": {},
   "outputs": [
    {
     "data": {
      "text/plain": [
       "b\"rm: cannot remove 'out/': No such file or directory\\nrm: cannot remove 'out.mp4': No such file or directory\\nrm: cannot remove 'out.mp4.tar.gz': No such file or directory\\nGraphicsMagick Initialized\\nThe frame limit is72\\nGame Initialization\\nMaze Loaded\\nMaze Rendered\\nagent1cmdpython3 groups/9/9.py\\nPlayer 1 Initialized\\nagent2cmdpython3 groups/3/3.py\\nPlayer 2 Initialized\\nBeginning a 2-player game.\\ngreen himynameis a-star-bot-group9\\nred himynameis adderall-bot\\nred toward 10.5 9.5\\ngreen toward 0.5 1.5\\nSimulation is now 5% complete\\nRendering is now 5% complete\\nSimulation is now 10% complete\\nRendering is now 10% complete\\nSimulation is now 15% complete\\nRendering is now 15% complete\\ngreen toward 0.5 2.5\\nSimulation is now 20% complete\\nRendering is now 20% complete\\nSimulation is now 25% complete\\nRendering is now 25% complete\\nSimulation is now 30% complete\\nRendering is now 30% complete\\ngreen toward 1.5 2.5\\nSimulation is now 35% complete\\nRendering is now 35% complete\\nSimulation is now 40% complete\\nRendering is now 40% complete\\ngreen toward 1.5 1.5\\nSimulation is now 45% complete\\nRendering is now 45% complete\\nSimulation is now 50% complete\\nRendering is now 50% complete\\nSimulation is now 55% complete\\nRendering is now 55% complete\\ngreen toward 2.5 1.5\\nSimulation is now 60% complete\\nRendering is now 60% complete\\nSimulation is now 65% complete\\nRendering is now 65% complete\\nSimulation is now 70% complete\\nRendering is now 70% complete\\ngreen toward 2.5 2.5\\nSimulation is now 75% complete\\nRendering is now 75% complete\\nSimulation is now 80% complete\\nRendering is now 80% complete\\nSimulation is now 85% complete\\nRendering is now 85% complete\\ngreen toward 2.5 3.5\\nSimulation is now 90% complete\\nRendering is now 90% complete\\nSimulation is now 95% complete\\nRendering is now 95% complete\\nSimulation is now 100% complete\\nRendering is now 100% complete\\nBeautiful exit\\nreached end of ~Game\\nffmpeg -framerate -y 18 -pattern_type glob -i 'out/frame*.png' -c:v libx264 -pix_fmt yuv420p /root/videos/9_vs_3.mp4\\nffmpeg version 4.4.2-0ubuntu0.22.04.1 Copyright (c) 2000-2021 the FFmpeg developers\\n  built with gcc 11 (Ubuntu 11.2.0-19ubuntu1)\\n  configuration: --prefix=/usr --extra-version=0ubuntu0.22.04.1 --toolchain=hardened --libdir=/usr/lib/x86_64-linux-gnu --incdir=/usr/include/x86_64-linux-gnu --arch=amd64 --enable-gpl --disable-stripping --enable-gnutls --enable-ladspa --enable-libaom --enable-libass --enable-libbluray --enable-libbs2b --enable-libcaca --enable-libcdio --enable-libcodec2 --enable-libdav1d --enable-libflite --enable-libfontconfig --enable-libfreetype --enable-libfribidi --enable-libgme --enable-libgsm --enable-libjack --enable-libmp3lame --enable-libmysofa --enable-libopenjpeg --enable-libopenmpt --enable-libopus --enable-libpulse --enable-librabbitmq --enable-librubberband --enable-libshine --enable-libsnappy --enable-libsoxr --enable-libspeex --enable-libsrt --enable-libssh --enable-libtheora --enable-libtwolame --enable-libvidstab --enable-libvorbis --enable-libvpx --enable-libwebp --enable-libx265 --enable-libxml2 --enable-libxvid --enable-libzimg --enable-libzmq --enable-libzvbi --enable-lv2 --enable-omx --enable-openal --enable-opencl --enable-opengl --enable-sdl2 --enable-pocketsphinx --enable-librsvg --enable-libmfx --enable-libdc1394 --enable-libdrm --enable-libiec61883 --enable-chromaprint --enable-frei0r --enable-libx264 --enable-shared\\n  libavutil      56. 70.100 / 56. 70.100\\n  libavcodec     58.134.100 / 58.134.100\\n  libavformat    58. 76.100 / 58. 76.100\\n  libavdevice    58. 13.100 / 58. 13.100\\n  libavfilter     7.110.100 /  7.110.100\\n  libswscale      5.  9.100 /  5.  9.100\\n  libswresample   3.  9.100 /  3.  9.100\\n  libpostproc    55.  9.100 / 55.  9.100\\nInput #0, image2, from 'out/frame*.png':\\n  Duration: 00:00:04.89, start: 0.000000, bitrate: N/A\\n  Stream #0:0: Video: png, rgb48be(pc), 1920x1080, 18 fps, 18 tbr, 18 tbn, 18 tbc\\nStream mapping:\\n  Stream #0:0 -> #0:0 (png (native) -> h264 (libx264))\\nPress [q] to stop, [?] for help\\n[libx264 @ 0x55d9a2fd5ec0] using cpu capabilities: MMX2 SSE2Fast SSSE3 SSE4.2 AVX FMA3 BMI2 AVX2\\n[libx264 @ 0x55d9a2fd5ec0] profile High, level 4.0, 4:2:0, 8-bit\\n[libx264 @ 0x55d9a2fd5ec0] 264 - core 163 r3060 5db6aa6 - H.264/MPEG-4 AVC codec - Copyleft 2003-2021 - http://www.videolan.org/x264.html - options: cabac=1 ref=3 deblock=1:0:0 analyse=0x3:0x113 me=hex subme=7 psy=1 psy_rd=1.00:0.00 mixed_ref=1 me_range=16 chroma_me=1 trellis=1 8x8dct=1 cqm=0 deadzone=21,11 fast_pskip=1 chroma_qp_offset=-2 threads=24 lookahead_threads=4 sliced_threads=0 nr=0 decimate=1 interlaced=0 bluray_compat=0 constrained_intra=0 bframes=3 b_pyramid=2 b_adapt=1 b_bias=0 direct=1 weightb=1 open_gop=0 weightp=2 keyint=250 keyint_min=18 scenecut=40 intra_refresh=0 rc_lookahead=40 rc=crf mbtree=1 crf=23.0 qcomp=0.60 qpmin=0 qpmax=69 qpstep=4 ip_ratio=1.40 aq=1:1.00\\nOutput #0, mp4, to '/root/videos/9_vs_3.mp4':\\n  Metadata:\\n    encoder         : Lavf58.76.100\\n  Stream #0:0: Video: h264 (avc1 / 0x31637661), yuv420p(tv, progressive), 1920x1080, q=2-31, 18 fps, 18432 tbn\\n    Metadata:\\n      encoder         : Lavc58.134.100 libx264\\n    Side data:\\n      cpb: bitrate max/min/avg: 0/0/0 buffer size: 0 vbv_delay: N/A\\nframe=    1 fps=0.0 q=0.0 size=       0kB time=00:00:00.00 bitrate=N/A speed=   0x    \\r\""
      ]
     },
     "execution_count": 60,
     "metadata": {},
     "output_type": "execute_result"
    }
   ],
   "source": [
    "container.logs()"
   ]
  },
  {
   "cell_type": "markdown",
   "metadata": {},
   "source": []
  },
  {
   "cell_type": "code",
   "execution_count": 9,
   "metadata": {},
   "outputs": [
    {
     "data": {
      "text/plain": [
       "True"
      ]
     },
     "execution_count": 9,
     "metadata": {},
     "output_type": "execute_result"
    }
   ],
   "source": [
    "container.attrs['State']['Running']"
   ]
  }
 ],
 "metadata": {
  "kernelspec": {
   "display_name": ".venv",
   "language": "python",
   "name": "python3"
  },
  "language_info": {
   "codemirror_mode": {
    "name": "ipython",
    "version": 3
   },
   "file_extension": ".py",
   "mimetype": "text/x-python",
   "name": "python",
   "nbconvert_exporter": "python",
   "pygments_lexer": "ipython3",
   "version": "3.11.5"
  }
 },
 "nbformat": 4,
 "nbformat_minor": 2
}
